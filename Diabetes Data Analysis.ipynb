{
 "cells": [
  {
   "cell_type": "code",
   "execution_count": 31,
   "id": "35b00d61",
   "metadata": {},
   "outputs": [],
   "source": [
    "import pandas as pd\n",
    "from sklearn.preprocessing import OrdinalEncoder\n",
    "import seaborn as sns\n",
    "import matplotlib.pyplot as plt\n",
    "import numpy as np"
   ]
  },
  {
   "cell_type": "markdown",
   "id": "7f933035",
   "metadata": {},
   "source": [
    "# Diabetes Data Analysis Project\n",
    "\n",
    "An analysis of a diabetes dataset by Marta Balbo\n",
    "\n",
    "## Overview\n",
    "\n",
    "The dataset contains data collected by the Iraqi society, acquired from the laboratory of Medical City Hospital and the Specializes Center for Endocrinology and Diabetes-Al-Kindy Teaching Hospital. The columns in the dataset are:\n",
    "\n",
    "* **ID**. Unique patient ID.\n",
    "* **Gender**. Biological sex of the patient. Usually encoded as: 0=Female, 1=Male.\n",
    "* **AGE**. Age of patient in years.\n",
    "* **Urea** Measures the level of urea in the blood (mg/dL). High levels may indicate kidney issues, common complications of diabetics. Normal range: 7-20 mg/dL.\n",
    "* **Cr** (Creatinine). Measures the level of creatine in the blood (mg/dL). High levels may indicate kidney issues, common complications of diabetics. Normal range: 0.6-1.3 mg/dL.\n",
    "* **HbA1c** (Glycated Hemoglobin). Indicator of average blood glucose levels over the past 2-3 months. Normal: $ < $ 5.7%. Prediabetic: 5.7-6.4%. Diabetic: $ \\geq $ 6.5%.\n",
    "* **Chol** (Cholesterol). Measures the level of cholesterol in the blood (mg/dL). High levels are a risk factor for cardiovascular disease, common complications of diabetics. Normal range: $ < $ 200 mg/dL.\n",
    "* **TG** (Triglycerides). Measures the level of fat in the blood (mg/dL). High levels is associated with insulin resistance and metabolic syndrome. Normal range: $ < $ 150 mg/dL.\n",
    "* **HDL** (High-Density Lipoprotein). Measures the level of \"good\" cholesterol (mg/dL). Helps remove excess cholesterol from the bloodstream. Ideal: $ > $ 40 mg/dL (men), $ > $ 50 mg/dL (women).\n",
    "* **LDL** (Low-Density Lipoprotein). Measures the level of \"bad\" cholesterol (mg/dL). Contributes to plaque buildup in the arteries. Ideal: $ < $ 100 mg/dL.\n",
    "* **VLDL** (Very Low-Density Lipoprotein). Measures the level of  another \"bad\" cholesterol (mg/dL), carries triglycerides. Often estimated from TG/5. High levels are associated with increased diabetes risk. Normal: 2-30 mg/dL.\n",
    "* **BMI** (Body Mass Index). Measure of body fat based on height and weight (kg/m $ ^2 $). Obesity is a risk factor for Type 2 diabetes. Underweight: $ < $ 18.5, Normal: 18.5-24.9, Overweight: 25-29.9, Obese: $ \\geq $ 30.\n",
    "* **CLASS**. Indicates whether the patient is Non-Diabetic ('N'), is Diabetic ('Y') or is Predict-Diabetic ('P').\n",
    "\n",
    "**Source:**\n",
    "\n",
    "Rashid, Ahlam (2020), “Diabetes Dataset”, Mendeley Data, V1, doi: 10.17632/wj9rwkp9c2.1\n",
    "\n"
   ]
  },
  {
   "cell_type": "code",
   "execution_count": null,
   "id": "7eedfc75",
   "metadata": {},
   "outputs": [],
   "source": [
    "def load_data(path='Multiclass Diabetes Dataset - Original.csv'):\n",
    "    df = pd.read_csv(path)\n",
    "\n",
    "    df.drop(columns=['No_Pation'], inplace=True)\n",
    "    \n",
    "    return df"
   ]
  },
  {
   "cell_type": "code",
   "execution_count": null,
   "id": "56c83082",
   "metadata": {},
   "outputs": [
    {
     "name": "stdout",
     "output_type": "stream",
     "text": [
      "      ID Gender  AGE  Urea  Cr  HbA1c  Chol   TG  HDL  LDL  VLDL   BMI CLASS\n",
      "0    502      F   50   4.7  46    4.9   4.2  0.9  2.4  1.4   0.5  24.0     N\n",
      "1    735      M   26   4.5  62    4.9   3.7  1.4  1.1  2.1   0.6  23.0     N\n",
      "2    420      F   50   4.7  46    4.9   4.2  0.9  2.4  1.4   0.5  24.0     N\n",
      "3    680      F   50   4.7  46    4.9   4.2  0.9  2.4  1.4   0.5  24.0     N\n",
      "4    504      M   33   7.1  46    4.9   4.9  1.0  0.8  2.0   0.4  21.0     N\n",
      "..   ...    ...  ...   ...  ..    ...   ...  ...  ...  ...   ...   ...   ...\n",
      "995  200      M   71  11.0  97    7.0   7.5  1.7  1.2  1.8   0.6  30.0     Y\n",
      "996  671      M   31   3.0  60   12.3   4.1  2.2  0.7  2.4  15.4  37.2    Y \n",
      "997  669      M   30   7.1  81    6.7   4.1  1.1  1.2  2.4   8.1  27.4    Y \n",
      "998   99      M   38   5.8  59    6.7   5.3  2.0  1.6  2.9  14.0  40.5    Y \n",
      "999  248      M   54   5.0  67    6.9   3.8  1.7  1.1  3.0   0.7  33.0    Y \n",
      "\n",
      "[1000 rows x 13 columns]\n",
      "Index(['ID', 'Gender', 'AGE', 'Urea', 'Cr', 'HbA1c', 'Chol', 'TG', 'HDL',\n",
      "       'LDL', 'VLDL', 'BMI', 'CLASS'],\n",
      "      dtype='object')\n"
     ]
    }
   ],
   "source": [
    "df = load_data()\n",
    "\n",
    "print(df)\n",
    "print(df.columns)"
   ]
  },
  {
   "cell_type": "markdown",
   "id": "bcde8a4e",
   "metadata": {},
   "source": [
    "## Project Questions and Objectives\n",
    "\n",
    "* Considering age, gender, BMI, blood sugar level and cholesterol, which of these factors are risk factors for Type 2 diabetes?\n",
    "* Develop a machine learning model that can predict diabetes status (Diabetic, Non-Diabetic or Predict-Diabetic). \n"
   ]
  },
  {
   "cell_type": "markdown",
   "id": "8cc57b39",
   "metadata": {},
   "source": [
    "## Data Cleaning\n",
    "\n",
    "The first step in the process is cleaning the data, beginning by removing null values and duplicates. Note how the removal of null values is not necessary, because there aren't any."
   ]
  },
  {
   "cell_type": "code",
   "execution_count": null,
   "id": "c0893046",
   "metadata": {},
   "outputs": [
    {
     "name": "stdout",
     "output_type": "stream",
     "text": [
      "ID        False\n",
      "Gender    False\n",
      "AGE       False\n",
      "Urea      False\n",
      "Cr        False\n",
      "HbA1c     False\n",
      "Chol      False\n",
      "TG        False\n",
      "HDL       False\n",
      "LDL       False\n",
      "VLDL      False\n",
      "BMI       False\n",
      "CLASS     False\n",
      "dtype: bool\n"
     ]
    }
   ],
   "source": [
    "# data cleaning: eliminate duplicates and null values, if any\n",
    "def clean_data(df):\n",
    "    print(df.isna().any())\n",
    "    df.dropna(inplace=True)\n",
    "\n",
    "    df.drop_duplicates(['Gender', 'AGE', 'Urea', 'Cr', 'HbA1c', 'Chol', 'TG', 'HDL', 'LDL', 'VLDL', 'BMI', 'CLASS'], inplace=True)\n",
    "\n",
    "    df.reset_index(drop=True, inplace=True)\n",
    "\n",
    "clean_data(df)"
   ]
  },
  {
   "cell_type": "markdown",
   "id": "4cd406be",
   "metadata": {},
   "source": [
    "## Additional Pre-Processing:\n",
    "\n",
    "Notice that the 'Gender' and 'CLASS' columns are categorical columns. We will encode them, but first let's check how many values appear in each column."
   ]
  },
  {
   "cell_type": "code",
   "execution_count": 35,
   "id": "e6fa6f20",
   "metadata": {},
   "outputs": [
    {
     "name": "stdout",
     "output_type": "stream",
     "text": [
      "['F' 'M' 'f']\n",
      "['N' 'N ' 'P' 'Y' 'Y ']\n",
      "Gender\n",
      "M    467\n",
      "F    363\n",
      "f      1\n",
      "Name: count, dtype: int64\n",
      "CLASS\n",
      "Y     691\n",
      "N      95\n",
      "P      40\n",
      "Y       4\n",
      "N       1\n",
      "Name: count, dtype: int64\n"
     ]
    }
   ],
   "source": [
    "def data_exploration(df):\n",
    "    # find problems in categorical rows\n",
    "    print(df['Gender'].unique()) \n",
    "    print(df['CLASS'].unique())\n",
    "    \n",
    "    # find how big are problems in categorical rows\n",
    "    print(df['Gender'].value_counts())\n",
    "    print(df['CLASS'].value_counts())\n",
    "\n",
    "data_exploration(df)\n"
   ]
  },
  {
   "cell_type": "markdown",
   "id": "a635bbfe",
   "metadata": {},
   "source": [
    "The unexpected values are relatively few, so we can just ignore them and drop those rows from the dataset.\n",
    "\n",
    "We'll encode the columns with $$ [F=0, M=1] $$ for 'Gender', and with $$ [N=0, P=1, Y=2] $$ for 'CLASS'."
   ]
  },
  {
   "cell_type": "code",
   "execution_count": 36,
   "id": "599d19ef",
   "metadata": {},
   "outputs": [
    {
     "data": {
      "text/html": [
       "<div>\n",
       "<style scoped>\n",
       "    .dataframe tbody tr th:only-of-type {\n",
       "        vertical-align: middle;\n",
       "    }\n",
       "\n",
       "    .dataframe tbody tr th {\n",
       "        vertical-align: top;\n",
       "    }\n",
       "\n",
       "    .dataframe thead th {\n",
       "        text-align: right;\n",
       "    }\n",
       "</style>\n",
       "<table border=\"1\" class=\"dataframe\">\n",
       "  <thead>\n",
       "    <tr style=\"text-align: right;\">\n",
       "      <th></th>\n",
       "      <th>ID</th>\n",
       "      <th>Gender</th>\n",
       "      <th>AGE</th>\n",
       "      <th>Urea</th>\n",
       "      <th>Cr</th>\n",
       "      <th>HbA1c</th>\n",
       "      <th>Chol</th>\n",
       "      <th>TG</th>\n",
       "      <th>HDL</th>\n",
       "      <th>LDL</th>\n",
       "      <th>VLDL</th>\n",
       "      <th>BMI</th>\n",
       "      <th>CLASS</th>\n",
       "    </tr>\n",
       "  </thead>\n",
       "  <tbody>\n",
       "    <tr>\n",
       "      <th>0</th>\n",
       "      <td>502</td>\n",
       "      <td>0.0</td>\n",
       "      <td>50</td>\n",
       "      <td>4.7</td>\n",
       "      <td>46</td>\n",
       "      <td>4.9</td>\n",
       "      <td>4.2</td>\n",
       "      <td>0.9</td>\n",
       "      <td>2.4</td>\n",
       "      <td>1.4</td>\n",
       "      <td>0.5</td>\n",
       "      <td>24.0</td>\n",
       "      <td>0.0</td>\n",
       "    </tr>\n",
       "    <tr>\n",
       "      <th>1</th>\n",
       "      <td>735</td>\n",
       "      <td>1.0</td>\n",
       "      <td>26</td>\n",
       "      <td>4.5</td>\n",
       "      <td>62</td>\n",
       "      <td>4.9</td>\n",
       "      <td>3.7</td>\n",
       "      <td>1.4</td>\n",
       "      <td>1.1</td>\n",
       "      <td>2.1</td>\n",
       "      <td>0.6</td>\n",
       "      <td>23.0</td>\n",
       "      <td>0.0</td>\n",
       "    </tr>\n",
       "    <tr>\n",
       "      <th>2</th>\n",
       "      <td>504</td>\n",
       "      <td>1.0</td>\n",
       "      <td>33</td>\n",
       "      <td>7.1</td>\n",
       "      <td>46</td>\n",
       "      <td>4.9</td>\n",
       "      <td>4.9</td>\n",
       "      <td>1.0</td>\n",
       "      <td>0.8</td>\n",
       "      <td>2.0</td>\n",
       "      <td>0.4</td>\n",
       "      <td>21.0</td>\n",
       "      <td>0.0</td>\n",
       "    </tr>\n",
       "    <tr>\n",
       "      <th>3</th>\n",
       "      <td>634</td>\n",
       "      <td>0.0</td>\n",
       "      <td>45</td>\n",
       "      <td>2.3</td>\n",
       "      <td>24</td>\n",
       "      <td>4.0</td>\n",
       "      <td>2.9</td>\n",
       "      <td>1.0</td>\n",
       "      <td>1.0</td>\n",
       "      <td>1.5</td>\n",
       "      <td>0.4</td>\n",
       "      <td>21.0</td>\n",
       "      <td>0.0</td>\n",
       "    </tr>\n",
       "    <tr>\n",
       "      <th>4</th>\n",
       "      <td>721</td>\n",
       "      <td>0.0</td>\n",
       "      <td>50</td>\n",
       "      <td>2.0</td>\n",
       "      <td>50</td>\n",
       "      <td>4.0</td>\n",
       "      <td>3.6</td>\n",
       "      <td>1.3</td>\n",
       "      <td>0.9</td>\n",
       "      <td>2.1</td>\n",
       "      <td>0.6</td>\n",
       "      <td>24.0</td>\n",
       "      <td>0.0</td>\n",
       "    </tr>\n",
       "    <tr>\n",
       "      <th>...</th>\n",
       "      <td>...</td>\n",
       "      <td>...</td>\n",
       "      <td>...</td>\n",
       "      <td>...</td>\n",
       "      <td>...</td>\n",
       "      <td>...</td>\n",
       "      <td>...</td>\n",
       "      <td>...</td>\n",
       "      <td>...</td>\n",
       "      <td>...</td>\n",
       "      <td>...</td>\n",
       "      <td>...</td>\n",
       "      <td>...</td>\n",
       "    </tr>\n",
       "    <tr>\n",
       "      <th>821</th>\n",
       "      <td>194</td>\n",
       "      <td>0.0</td>\n",
       "      <td>57</td>\n",
       "      <td>4.1</td>\n",
       "      <td>70</td>\n",
       "      <td>9.3</td>\n",
       "      <td>5.3</td>\n",
       "      <td>3.3</td>\n",
       "      <td>1.0</td>\n",
       "      <td>1.4</td>\n",
       "      <td>1.3</td>\n",
       "      <td>29.0</td>\n",
       "      <td>2.0</td>\n",
       "    </tr>\n",
       "    <tr>\n",
       "      <th>823</th>\n",
       "      <td>196</td>\n",
       "      <td>1.0</td>\n",
       "      <td>55</td>\n",
       "      <td>3.1</td>\n",
       "      <td>39</td>\n",
       "      <td>8.5</td>\n",
       "      <td>5.0</td>\n",
       "      <td>2.5</td>\n",
       "      <td>1.9</td>\n",
       "      <td>2.9</td>\n",
       "      <td>0.7</td>\n",
       "      <td>27.0</td>\n",
       "      <td>2.0</td>\n",
       "    </tr>\n",
       "    <tr>\n",
       "      <th>824</th>\n",
       "      <td>198</td>\n",
       "      <td>1.0</td>\n",
       "      <td>28</td>\n",
       "      <td>3.5</td>\n",
       "      <td>61</td>\n",
       "      <td>8.5</td>\n",
       "      <td>4.5</td>\n",
       "      <td>1.9</td>\n",
       "      <td>1.1</td>\n",
       "      <td>2.6</td>\n",
       "      <td>0.8</td>\n",
       "      <td>37.0</td>\n",
       "      <td>2.0</td>\n",
       "    </tr>\n",
       "    <tr>\n",
       "      <th>825</th>\n",
       "      <td>199</td>\n",
       "      <td>1.0</td>\n",
       "      <td>69</td>\n",
       "      <td>10.3</td>\n",
       "      <td>185</td>\n",
       "      <td>7.7</td>\n",
       "      <td>4.9</td>\n",
       "      <td>1.9</td>\n",
       "      <td>1.2</td>\n",
       "      <td>3.0</td>\n",
       "      <td>0.7</td>\n",
       "      <td>37.0</td>\n",
       "      <td>2.0</td>\n",
       "    </tr>\n",
       "    <tr>\n",
       "      <th>826</th>\n",
       "      <td>200</td>\n",
       "      <td>1.0</td>\n",
       "      <td>71</td>\n",
       "      <td>11.0</td>\n",
       "      <td>97</td>\n",
       "      <td>7.0</td>\n",
       "      <td>7.5</td>\n",
       "      <td>1.7</td>\n",
       "      <td>1.2</td>\n",
       "      <td>1.8</td>\n",
       "      <td>0.6</td>\n",
       "      <td>30.0</td>\n",
       "      <td>2.0</td>\n",
       "    </tr>\n",
       "  </tbody>\n",
       "</table>\n",
       "<p>825 rows × 13 columns</p>\n",
       "</div>"
      ],
      "text/plain": [
       "      ID  Gender  AGE  Urea   Cr  HbA1c  Chol   TG  HDL  LDL  VLDL   BMI  \\\n",
       "0    502     0.0   50   4.7   46    4.9   4.2  0.9  2.4  1.4   0.5  24.0   \n",
       "1    735     1.0   26   4.5   62    4.9   3.7  1.4  1.1  2.1   0.6  23.0   \n",
       "2    504     1.0   33   7.1   46    4.9   4.9  1.0  0.8  2.0   0.4  21.0   \n",
       "3    634     0.0   45   2.3   24    4.0   2.9  1.0  1.0  1.5   0.4  21.0   \n",
       "4    721     0.0   50   2.0   50    4.0   3.6  1.3  0.9  2.1   0.6  24.0   \n",
       "..   ...     ...  ...   ...  ...    ...   ...  ...  ...  ...   ...   ...   \n",
       "821  194     0.0   57   4.1   70    9.3   5.3  3.3  1.0  1.4   1.3  29.0   \n",
       "823  196     1.0   55   3.1   39    8.5   5.0  2.5  1.9  2.9   0.7  27.0   \n",
       "824  198     1.0   28   3.5   61    8.5   4.5  1.9  1.1  2.6   0.8  37.0   \n",
       "825  199     1.0   69  10.3  185    7.7   4.9  1.9  1.2  3.0   0.7  37.0   \n",
       "826  200     1.0   71  11.0   97    7.0   7.5  1.7  1.2  1.8   0.6  30.0   \n",
       "\n",
       "     CLASS  \n",
       "0      0.0  \n",
       "1      0.0  \n",
       "2      0.0  \n",
       "3      0.0  \n",
       "4      0.0  \n",
       "..     ...  \n",
       "821    2.0  \n",
       "823    2.0  \n",
       "824    2.0  \n",
       "825    2.0  \n",
       "826    2.0  \n",
       "\n",
       "[825 rows x 13 columns]"
      ]
     },
     "execution_count": 36,
     "metadata": {},
     "output_type": "execute_result"
    }
   ],
   "source": [
    "# pre-process: encode categorical variables\n",
    "def pre_process_data(df):\n",
    "    # drop 'N ' and 'Y ' values from 'CLASS', and 'f' values from 'Gender' (they are a small enough number)\n",
    "    df.drop(df[(df['CLASS']=='Y ') | (df['CLASS']=='N ') | (df['Gender']=='f')].index, inplace=True)\n",
    "    \n",
    "    # encode 'Gender' and 'CLASS' columns: [F=0, M=1] and ['N'=0, 'P'=1, 'Y'=2]\n",
    "    enc = OrdinalEncoder()\n",
    "    df[['Gender', 'CLASS']] = enc.fit_transform(df[['Gender', 'CLASS']])\n",
    "    \n",
    "    return df\n",
    "\n",
    "pre_process_data(df)"
   ]
  },
  {
   "cell_type": "markdown",
   "id": "41c48126",
   "metadata": {},
   "source": [
    "## Exploratory Data Analysis (EDA):\n",
    "\n",
    "We want to visualize the distribution of the factors we are considering (age, gender, BMI, blood sugar level and cholesterol), both on the whole population and by class. \n",
    "\n",
    "We use histograms to visualize the distribution, and boxplots to see whether the distribution is simmetrical or skewed."
   ]
  },
  {
   "cell_type": "code",
   "execution_count": 37,
   "id": "bac7e346",
   "metadata": {},
   "outputs": [
    {
     "data": {
      "image/png": "[encoded data removed]",
      "text/plain": [
       "<Figure size 500x500 with 1 Axes>"
      ]
     },
     "metadata": {},
     "output_type": "display_data"
    },
    {
     "data": {
      "image/png": "[encoded data removed]",
      "text/plain": [
       "<Figure size 500x500 with 1 Axes>"
      ]
     },
     "metadata": {},
     "output_type": "display_data"
    }
   ],
   "source": [
    "def plot_gender(df):\n",
    "    # visualize the correlation between gender and class\n",
    "    df_reduced = df[['Gender', 'CLASS']]\n",
    "\n",
    "    # plot the gender distribution\n",
    "    \n",
    "    df1 = df_reduced.groupby(['Gender']).size().reset_index(name='number_patients')\n",
    "\n",
    "    plt.figure(figsize=(5, 5))\n",
    "    ax = sns.barplot(x='Gender', y='number_patients', hue='Gender', data=df1)\n",
    "    plt.ylabel(\"Number of Patients\")\n",
    "\n",
    "    legend = ax.get_legend()\n",
    "    handles = legend.legend_handles\n",
    "    ax.legend(handles, [\"Female\",\"Male\"], title='Gender')\n",
    "\n",
    "    ax.set_xticks(range(2))\n",
    "    ax.set_xticklabels(['Female', 'Male'])\n",
    "    \n",
    "    # plot the gender distribution by class\n",
    "\n",
    "    df2 = df_reduced.groupby(['Gender', 'CLASS']).size().reset_index(name='number_patients')\n",
    "\n",
    "    plt.figure(figsize=(5, 5))\n",
    "    ax = sns.barplot(x='CLASS', y='number_patients', hue='Gender', data=df2)\n",
    "    plt.ylabel(\"Number of Patients\")\n",
    "    \n",
    "    legend = ax.get_legend()\n",
    "    handles = legend.legend_handles\n",
    "    ax.legend(handles, [\"Female\",\"Male\"], title='Gender')\n",
    "\n",
    "    ax.set_xticks(range(3))\n",
    "    ax.set_xticklabels(['non-diabetic', 'predict-diabetic', 'diabetic'])\n",
    "\n",
    "plot_gender(df)"
   ]
  },
  {
   "cell_type": "code",
   "execution_count": 38,
   "id": "a51e9181",
   "metadata": {},
   "outputs": [
    {
     "data": {
      "image/png": "[encoded data removed]",
      "text/plain": [
       "<Figure size 500x500 with 1 Axes>"
      ]
     },
     "metadata": {},
     "output_type": "display_data"
    },
    {
     "data": {
      "image/png": "[encoded data removed]",
      "text/plain": [
       "<Figure size 500x500 with 1 Axes>"
      ]
     },
     "metadata": {},
     "output_type": "display_data"
    },
    {
     "data": {
      "image/png": "[encoded data removed]",
      "text/plain": [
       "<Figure size 500x500 with 1 Axes>"
      ]
     },
     "metadata": {},
     "output_type": "display_data"
    }
   ],
   "source": [
    "def plot_age(df):\n",
    "    # visualize the correlation between age and class\n",
    "    # plot the Age distribution with histogram\n",
    "\n",
    "    plt.figure(figsize=(5,5))\n",
    "    ax = plt.hist(df['AGE'], [20, 25, 30, 35, 40, 45, 50, 55, 60, 65, 70, 80])\n",
    "    plt.xlabel(\"Age\")\n",
    "    plt.ylabel(\"Number of Patients\")\n",
    "    #plt.title = ('Age Distrubtion')\n",
    "\n",
    "    # plot the Age distribution with boxplot\n",
    "\n",
    "    plt.figure(figsize=(5,5))\n",
    "    ax = sns.boxplot(x=df['AGE'], flierprops={\"marker\": \"d\"})\n",
    "    plt.xlabel(\"Age\")\n",
    "\n",
    "    # plot the Age distribution by class\n",
    "\n",
    "    diabetic = df[df['CLASS']==0]\n",
    "    predict_diabetic = df[df['CLASS']==1]\n",
    "    non_diabetic = df[df['CLASS']==2]\n",
    "\n",
    "    plt.figure(figsize=(5,5))\n",
    "    ax = plt.hist([diabetic['AGE'], predict_diabetic['AGE'], non_diabetic['AGE']], [20, 25, 30, 35, 40, 45, 50, 55, 60, 65, 70, 75, 80])\n",
    "    plt.xlabel(\"Age\")\n",
    "    plt.ylabel(\"Number of Patients\")\n",
    "    plt.legend([0,1,2])\n",
    "\n",
    "plot_age(df)"
   ]
  },
  {
   "cell_type": "code",
   "execution_count": 39,
   "id": "dcbb6682",
   "metadata": {},
   "outputs": [
    {
     "data": {
      "image/png": "[encoded data removed]",
      "text/plain": [
       "<Figure size 500x500 with 1 Axes>"
      ]
     },
     "metadata": {},
     "output_type": "display_data"
    },
    {
     "data": {
      "image/png": "[encoded data removed]",
      "text/plain": [
       "<Figure size 500x500 with 1 Axes>"
      ]
     },
     "metadata": {},
     "output_type": "display_data"
    },
    {
     "data": {
      "image/png": "[encoded data removed]",
      "text/plain": [
       "<Figure size 500x500 with 1 Axes>"
      ]
     },
     "metadata": {},
     "output_type": "display_data"
    }
   ],
   "source": [
    "def plot_BMI(df):\n",
    "     \n",
    "    # visualize the correlation between BMI and class\n",
    "    # plot the BMI distribution with histogram\n",
    "\n",
    "    plt.figure(figsize=(5,5))\n",
    "    ax = plt.hist(df['BMI'], [15, 20, 25, 30, 35, 40, 45, 50])\n",
    "    plt.xlabel(\"BMI\")\n",
    "    plt.ylabel(\"Number of Patients\")\n",
    "\n",
    "    # plot the BMI distribution with boxplot\n",
    "\n",
    "    plt.figure(figsize=(5,5))\n",
    "    ax = sns.boxplot(x=df['BMI'], flierprops={\"marker\": \"d\"})\n",
    "    plt.xlabel(\"BMI\")\n",
    "\n",
    "    # plot the BMI distribution by class\n",
    "\n",
    "    diabetic = df[df['CLASS']==0]\n",
    "    predict_diabetic = df[df['CLASS']==1]\n",
    "    non_diabetic = df[df['CLASS']==2]\n",
    "\n",
    "    plt.figure(figsize=(5,5))\n",
    "    ax = plt.hist([diabetic['BMI'], predict_diabetic['BMI'], non_diabetic['BMI']], [15, 20, 25, 30, 35, 40, 45, 50])\n",
    "    plt.xlabel(\"BMI\")\n",
    "    plt.ylabel(\"Number of Patients\")\n",
    "    plt.legend([0,1,2])\n",
    "\n",
    "plot_BMI(df)"
   ]
  },
  {
   "cell_type": "code",
   "execution_count": 40,
   "id": "a89890d3",
   "metadata": {},
   "outputs": [
    {
     "data": {
      "image/png": "[encoded data removed]",
      "text/plain": [
       "<Figure size 500x500 with 1 Axes>"
      ]
     },
     "metadata": {},
     "output_type": "display_data"
    },
    {
     "data": {
      "image/png": "[encoded data removed]",
      "text/plain": [
       "<Figure size 500x500 with 1 Axes>"
      ]
     },
     "metadata": {},
     "output_type": "display_data"
    },
    {
     "data": {
      "image/png": "[encoded data removed]",
      "text/plain": [
       "<Figure size 500x500 with 1 Axes>"
      ]
     },
     "metadata": {},
     "output_type": "display_data"
    }
   ],
   "source": [
    "def plot_HbA1c(df):\n",
    "     \n",
    "    # visualize the correlation between HbA1c and class\n",
    "    # plot the HbA1c distribution with histogram\n",
    "\n",
    "    plt.figure(figsize=(5,5))\n",
    "    ax = plt.hist(df['HbA1c'], [0,1,2,3,4,5,6,7,8,9,10,11,12,13,14,15,16])\n",
    "    plt.xlabel(\"HbA1c\")\n",
    "    plt.ylabel(\"Number of Patients\")\n",
    "\n",
    "    # plot the HbA1c distribution with boxplot\n",
    "\n",
    "    plt.figure(figsize=(5,5))\n",
    "    ax = sns.boxplot(x=df['HbA1c'], flierprops={\"marker\": \"d\"})\n",
    "    plt.xlabel(\"HbA1c\")\n",
    "\n",
    "    # plot the HbA1c distribution by class\n",
    "\n",
    "    diabetic = df[df['CLASS']==0]\n",
    "    predict_diabetic = df[df['CLASS']==1]\n",
    "    non_diabetic = df[df['CLASS']==2]\n",
    "\n",
    "    plt.figure(figsize=(5,5))\n",
    "    ax = plt.hist([diabetic['HbA1c'], predict_diabetic['HbA1c'], non_diabetic['HbA1c']], [0,1,2,3,4,5,6,7,8,9,10,11,12,13,14,15,16])\n",
    "    plt.xlabel(\"HbA1c\")\n",
    "    plt.ylabel(\"Number of Patients\")\n",
    "    plt.legend([0,1,2])\n",
    "\n",
    "plot_HbA1c(df)"
   ]
  },
  {
   "cell_type": "code",
   "execution_count": 41,
   "id": "198d80a0",
   "metadata": {},
   "outputs": [
    {
     "data": {
      "image/png": "[encoded data removed]",
      "text/plain": [
       "<Figure size 500x500 with 1 Axes>"
      ]
     },
     "metadata": {},
     "output_type": "display_data"
    },
    {
     "data": {
      "image/png": "[encoded data removed]",
      "text/plain": [
       "<Figure size 500x500 with 1 Axes>"
      ]
     },
     "metadata": {},
     "output_type": "display_data"
    },
    {
     "data": {
      "image/png": "[encoded data removed]",
      "text/plain": [
       "<Figure size 500x500 with 1 Axes>"
      ]
     },
     "metadata": {},
     "output_type": "display_data"
    }
   ],
   "source": [
    "def plot_Chol(df):\n",
    "     \n",
    "    # visualize the correlation between Chol and class\n",
    "    # plot the Chol distribution with histogram\n",
    "\n",
    "    plt.figure(figsize=(5,5))\n",
    "    ax = plt.hist(df['Chol'], [0,1,2,3,4,5,6,7,8,9,10])\n",
    "    plt.xlabel(\"Chol\")\n",
    "    plt.ylabel(\"Number of Patients\")\n",
    "\n",
    "    # plot the Chol distribution with boxplot\n",
    "\n",
    "    plt.figure(figsize=(5,5))\n",
    "    ax = sns.boxplot(x=df['Chol'], flierprops={\"marker\": \"d\"})\n",
    "    plt.xlabel(\"Chol\")\n",
    "\n",
    "    # plot the Chol distribution by class\n",
    "\n",
    "    diabetic = df[df['CLASS']==0]\n",
    "    predict_diabetic = df[df['CLASS']==1]\n",
    "    non_diabetic = df[df['CLASS']==2]\n",
    "\n",
    "    plt.figure(figsize=(5,5))\n",
    "    ax = plt.hist([diabetic['Chol'], predict_diabetic['Chol'], non_diabetic['Chol']], [0,1,2,3,4,5,6,7,8,9,10])\n",
    "    plt.xlabel(\"Chol\")\n",
    "    plt.ylabel(\"Number of Patients\")\n",
    "    plt.legend([0,1,2])\n",
    "\n",
    "plot_Chol(df)"
   ]
  },
  {
   "cell_type": "markdown",
   "id": "76932251",
   "metadata": {},
   "source": [
    "## Hypotesis Testing\n",
    "\n",
    "Based on the exploratory data analysis we conducted, we want to verify whether each of the factors considered (gender, age, BMI, cholesterol level, and blood glucose level) influences the risk of developing Type 2 diabetes. \n"
   ]
  },
  {
   "cell_type": "markdown",
   "id": "7ed0b447",
   "metadata": {},
   "source": [
    "The first hypotesis we consider, called Hypotesis 1, regards the gender of the patient.\n",
    "\n",
    "### Hypotesis 1\n",
    "\n",
    "* **Null Hypotesis $ H_0 $**: female and male patients have equal risk of developing diabetes\n",
    "\n",
    "* **Alternative Hypotesis $ H_1 $**: female and male patients do not have equal risk of developing diabetes\n"
   ]
  },
  {
   "cell_type": "markdown",
   "id": "027a3bd2",
   "metadata": {},
   "source": [
    "To test the first hypotesis, we use the $ \\chi ^ 2 $ test of independence."
   ]
  },
  {
   "cell_type": "code",
   "execution_count": 42,
   "id": "2f0b70d8",
   "metadata": {},
   "outputs": [
    {
     "name": "stdout",
     "output_type": "stream",
     "text": [
      "p = 0.028005557466185264\n"
     ]
    }
   ],
   "source": [
    "from scipy.stats import chi2_contingency\n",
    "\n",
    "def chi_square_p_value(df, index_col, column_col):\n",
    "    observations = pd.crosstab(index=df[index_col], columns=df[column_col],margins=True)\n",
    "    chi2, p, dof, ex = chi2_contingency(observations)\n",
    "\n",
    "    return p\n",
    "\n",
    "print(\"p =\", chi_square_p_value(df, \"Gender\", \"CLASS\"))\n"
   ]
  },
  {
   "cell_type": "markdown",
   "id": "aef29fe4",
   "metadata": {},
   "source": [
    "With $ \\alpha = 0.05 $, we reject the null hypotesis and we accept the alternative hypotesis. We can conclude that the gender of the patients influences the risk of developing diabetes."
   ]
  },
  {
   "cell_type": "markdown",
   "id": "4f347da7",
   "metadata": {},
   "source": [
    "The subsequent hypoteses regard the rest of the factors. We will use the same method to test these hypotesis.\n",
    "\n",
    "### Hypotesis 2\n",
    "\n",
    "* **Null Hypotesis $ H_0 $**: there is no difference in age among diabetic, non-diabetic, and predict-diabetic people\n",
    "\n",
    "* **Alternative Hypotesis $ H_1 $**: there is a difference in age among diabetic, non-diabetic, and predict-diabetic people\n",
    "\n",
    "\n",
    "### Hypotesis 3\n",
    "\n",
    "* **Null Hypotesis $ H_0 $**: there is no difference in BMI among diabetic, non-diabetic, and predict-diabetic people\n",
    "\n",
    "* **Alternative Hypotesis $ H_1 $**: there is a difference in BMI among diabetic, non-diabetic, and predict-diabetic people\n",
    "\n",
    "\n",
    "### Hypotesis 4\n",
    "\n",
    "* **Null Hypotesis $ H_0 $**: there is no difference in cholesterol level among diabetic, non-diabetic, and predict-diabetic people\n",
    "\n",
    "* **Alternative Hypotesis $ H_1 $**: there is a difference in cholesterol level among diabetic, non-diabetic, and predict-diabetic people\n",
    "\n",
    "\n",
    "### Hypotesis 5\n",
    "\n",
    "* **Null Hypotesis $ H_0 $**: there is no difference in glucose level among diabetic, non-diabetic, and predict-diabetic people\n",
    "\n",
    "* **Alternative Hypotesis $ H_1 $**: there is a difference in glucose level among diabetic, non-diabetic, and predict-diabetic people\n",
    "\n"
   ]
  },
  {
   "cell_type": "markdown",
   "id": "bca170c9",
   "metadata": {},
   "source": [
    "To test these hypoteses, we use could use the one-way ANOVA, but first we have to check whether some assumptions about the residuals are true.\n",
    "\n",
    "We can assume that the observations are independent from one another (because we eliminated the duplicates, so each observation refers to a different patient).\n",
    "\n",
    "We then have to test for the normality and the homogeneity of variance."
   ]
  },
  {
   "cell_type": "markdown",
   "id": "7827cbc4",
   "metadata": {},
   "source": [
    "Let's test first for the homogeneity of variance, using the Levene's test."
   ]
  },
  {
   "cell_type": "code",
   "execution_count": 43,
   "id": "6f80a3ec",
   "metadata": {},
   "outputs": [
    {
     "name": "stdout",
     "output_type": "stream",
     "text": [
      "           W          pval  equal_var variable\n",
      "0   7.907853  3.965379e-04      False      AGE\n",
      "1  33.444493  1.086386e-14      False      BMI\n",
      "2   3.464882  3.173427e-02      False     Chol\n",
      "3  67.522324  7.066155e-28      False    HbA1c\n"
     ]
    }
   ],
   "source": [
    "# levene's test for homogeneity of variance\n",
    "import pingouin as pg\n",
    "\n",
    "variables = ['AGE', 'BMI', 'Chol', 'HbA1c']\n",
    "\n",
    "results = []\n",
    "for var in variables:\n",
    "    res = pg.homoscedasticity(data=df, \n",
    "                    dv=var, \n",
    "                    group=\"CLASS\",\n",
    "                    method='levene')\n",
    "    res['variable'] = var\n",
    "    results.append(res)\n",
    "\n",
    "results_df = pd.concat(results, ignore_index = True)\n",
    "\n",
    "# results: W statistic (used to calculate the p-value), p-value, whether the variance is homogeneous or not and variable\n",
    "\n",
    "\n",
    "print(results_df)"
   ]
  },
  {
   "cell_type": "markdown",
   "id": "af4f0376",
   "metadata": {},
   "source": [
    "The Levene test shows that the variance is not homogeneous for each of the variables considered."
   ]
  },
  {
   "cell_type": "markdown",
   "id": "db6e7b79",
   "metadata": {},
   "source": [
    "Now we'll test the normality assumption, using Shapiro-Wilk test."
   ]
  },
  {
   "cell_type": "code",
   "execution_count": 44,
   "id": "db0cd6f5",
   "metadata": {},
   "outputs": [
    {
     "name": "stdout",
     "output_type": "stream",
     "text": [
      "              W          pval  normal variable\n",
      "CLASS                                         \n",
      "0.0    0.943575  4.675616e-04   False      AGE\n",
      "1.0    0.870684  2.980315e-04   False      AGE\n",
      "2.0    0.882678  1.994845e-22   False      AGE\n",
      "0.0    0.904004  3.647965e-06   False      BMI\n",
      "1.0    0.915101  5.419163e-03   False      BMI\n",
      "2.0    0.987358  1.120847e-05   False      BMI\n",
      "0.0    0.892072  1.047556e-06   False     Chol\n",
      "1.0    0.933442  2.089255e-02   False     Chol\n",
      "2.0    0.974938  1.732654e-09   False     Chol\n",
      "0.0    0.751057  2.157384e-11   False    HbA1c\n",
      "1.0    0.941431  3.864855e-02   False    HbA1c\n",
      "2.0    0.991829  7.488554e-04   False    HbA1c\n"
     ]
    }
   ],
   "source": [
    "#Shapiro-Wilk test with Pingouin\n",
    "\n",
    "#variables = ['AGE', 'BMI', 'Chol', 'HbA1c']\n",
    "\n",
    "results = []\n",
    "\n",
    "for var in variables:\n",
    "    df_reduced = df[['CLASS', var]]\n",
    "    res = pg.normality(data=df_reduced, dv=var, group='CLASS', method='shapiro')\n",
    "    res['variable'] = var\n",
    "    results.append(res)\n",
    "\n",
    "results_df = pd.concat(results)\n",
    "\n",
    "# results: W statistic (between 0 and 1, close to 1 indicates closeness to normal distribution), p-value, whether the null hypotesis of normality is rejected or not and variable\n",
    "\n",
    "print(results_df)"
   ]
  },
  {
   "cell_type": "markdown",
   "id": "4cb53a5e",
   "metadata": {},
   "source": [
    "The Shapiro-Wilk test shows that the residuals for each of the variables are not normally distributed."
   ]
  },
  {
   "cell_type": "markdown",
   "id": "71282680",
   "metadata": {},
   "source": [
    "We can also visualize the lack of normality with a QQ-plot. Let's draw the QQ-plot for the age variable."
   ]
  },
  {
   "cell_type": "code",
   "execution_count": 45,
   "id": "9db828f0",
   "metadata": {},
   "outputs": [],
   "source": [
    "#formula_values = ['AGE ~ CLASS', 'BMI ~ CLASS', 'Chol ~ CLASS', 'HbA1c ~ CLASS']\n",
    "#formula = dict(zip(variables, formula_values))"
   ]
  },
  {
   "cell_type": "code",
   "execution_count": 46,
   "id": "9d8bd1ad",
   "metadata": {},
   "outputs": [
    {
     "data": {
      "image/png": "[encoded data removed]",
      "text/plain": [
       "<Figure size 640x480 with 1 Axes>"
      ]
     },
     "metadata": {},
     "output_type": "display_data"
    }
   ],
   "source": [
    "import statsmodels.api as sm\n",
    "from statsmodels.formula.api import ols\n",
    "\n",
    "formula = 'AGE ~ CLASS'\n",
    "\n",
    "model = ols(formula, data=df).fit()\n",
    "res = model.resid\n",
    "\n",
    "# QQ plot (quantile-quantile plot)\n",
    "\n",
    "ax = pg.qqplot(res, dist='norm')\n",
    "sns.despine()\n"
   ]
  },
  {
   "cell_type": "markdown",
   "id": "dd4eec55",
   "metadata": {},
   "source": [
    "The coefficient of correlation $R^2$ indicates that the data is very close to the normal distribution. The discrepancy can be due to various reasons, like the fact that this coefficient does not consider the distribution of the residuals, the presence of outliers or the non-homoscedasticity of the data."
   ]
  },
  {
   "cell_type": "markdown",
   "id": "f1ae224c",
   "metadata": {},
   "source": [
    "Since the data is not normally distributed and the variance is not homogeneous, we use the Kruskal-Wallis test instead of the one-way ANOVA."
   ]
  },
  {
   "cell_type": "code",
   "execution_count": null,
   "id": "c1d69924",
   "metadata": {},
   "outputs": [
    {
     "name": "stdout",
     "output_type": "stream",
     "text": [
      "  Source  ddof1           H         p-unc variable\n",
      "0  CLASS      2  196.168160  2.527117e-43      AGE\n",
      "1  CLASS      2  272.864186  5.601378e-60      BMI\n",
      "2  CLASS      2   43.635563  3.347016e-10     Chol\n",
      "3  CLASS      2  286.329535  6.673160e-63    HbA1c\n"
     ]
    }
   ],
   "source": [
    "#kruskal-wallis test (if the data is not normally distributed)\n",
    "\n",
    "results = []\n",
    "\n",
    "for var in  variables:\n",
    "    res = pg.kruskal(data=df, \n",
    "        dv=var, \n",
    "        between='CLASS')\n",
    "    res['variable'] = var\n",
    "    results.append(res)\n",
    "\n",
    "results_df = pd.concat(results, ignore_index = True)\n",
    "\n",
    "# results: degrees of freedom, H statistic, uncorrected p-value, variable\n",
    "\n",
    "print(results_df)"
   ]
  },
  {
   "cell_type": "markdown",
   "id": "b67f20fb",
   "metadata": {},
   "source": [
    "As before, with $ \\alpha = 0.05 $, we reject all four of the null hypoteses and we accept the alternative hypoteses. We can conclude that the gender, age, glucose and cholesterol levels of the patients all influence the risk of developing diabetes."
   ]
  },
  {
   "cell_type": "markdown",
   "id": "5b8cf694",
   "metadata": {},
   "source": [
    "## Predictive Analytics\n",
    "\n",
    "We will now build a machine learning model, to try and predict the patient's class (and therefore the diabetes status) based on various combinations of the factors we have in our dataframe."
   ]
  },
  {
   "cell_type": "markdown",
   "id": "f8a5adc6",
   "metadata": {},
   "source": [
    "### Pre-Processing\n",
    "\n",
    "The first step is to select some rows of the dataframe, to balance out the number of rows for every class. As a matter of fact, the dataframe as it is now has much more data about diabetic patients (Class 2), and we risk that our model learns to predict a diabetes diagnosis based exclusively on the fact that it is so predominant."
   ]
  },
  {
   "cell_type": "code",
   "execution_count": 49,
   "id": "9dc97167",
   "metadata": {},
   "outputs": [],
   "source": [
    "# reduce the number of rows to balance the number of patients of every class\n",
    "from imblearn.under_sampling import RandomUnderSampler, ClusterCentroids\n",
    "\n",
    "def select_rows_random(df, X, y):\n",
    "    dict_sample_sizes = {0: 90, 1: 40, 2: 120}\n",
    "    X_res, y_res = RandomUnderSampler(sampling_strategy=dict_sample_sizes, random_state=42).fit_resample(X, y)\n",
    "    return X_res, y_res\n",
    "\n",
    "def select_rows_cc(df, X, y):\n",
    "    dict_sample_sizes = {0: 65, 1: 20, 2: 120}\n",
    "    X_res, y_res = ClusterCentroids(sampling_strategy=dict_sample_sizes, random_state=42).fit_resample(X, y)\n",
    "    return X_res, y_res"
   ]
  },
  {
   "cell_type": "markdown",
   "id": "c5d2390c",
   "metadata": {},
   "source": [
    "### Building the model\n",
    "\n",
    "We start by loading the training and validation data. For now, we'll use all the columns, minus the 'CLASS' column, as features.\n",
    "\n",
    "We can now apply the pre-processing step to the training data, while we leave the validation data as is. This is done to validate the model on real-world data."
   ]
  },
  {
   "cell_type": "code",
   "execution_count": null,
   "id": "446e8c35",
   "metadata": {},
   "outputs": [],
   "source": [
    "from sklearn.model_selection import train_test_split\n",
    "\n",
    "# select features and target\n",
    "X = df.drop(columns=['CLASS'])\n",
    "y = df['CLASS']\n",
    "\n",
    "X_train, X_valid, y_train, y_valid = train_test_split(X, y)\n",
    "\n",
    "# X, y = select_rows_random(df, X, y)\n",
    "X_train, y_train = select_rows_cc(df, X_train, y_train)"
   ]
  },
  {
   "cell_type": "markdown",
   "id": "d732cd1f",
   "metadata": {},
   "source": [
    "We can now build a simple model using logistic regression, given the need to classify patients in the three classes (diabetic, non diabetic or predict-diabetic). "
   ]
  },
  {
   "cell_type": "code",
   "execution_count": null,
   "id": "85ddf34a",
   "metadata": {},
   "outputs": [],
   "source": [
    "from sklearn import datasets, linear_model, metrics\n",
    "from sklearn.metrics import f1_score, roc_auc_score\n",
    "from sklearn.model_selection import StratifiedKFold, cross_validate\n",
    "\n",
    "log_reg = linear_model.LogisticRegression(max_iter=100000, random_state=0)\n",
    "\n",
    "# ensure that the class proportion is maintained\n",
    "cv = StratifiedKFold(n_splits=5, shuffle=True, random_state=42)\n",
    "\n",
    "scoring = {\n",
    "    \"f1\": \"f1_weighted\",\n",
    "    \"accuracy\": \"accuracy\",\n",
    "    \"precision\": \"precision_weighted\",\n",
    "    \"recall\": \"recall_weighted\",\n",
    "    \"roc_auc\": \"roc_auc_ovr\"\n",
    "}\n",
    "\n",
    "results_scores = cross_validate(log_reg, X, y, cv=cv, scoring=scoring)"
   ]
  },
  {
   "cell_type": "markdown",
   "id": "090ae971",
   "metadata": {},
   "source": [
    "Now we check the model performance. We could use the accuracy (the number of the correct predictions), but that number is reliable only when there is no class imbalance. Instead, we check the F1 score contained in results_scores, a metric that takes into account not only the number of errors but also the type of errors (differentiating between False Positives and False Negatives). This helps offset the class imbalance."
   ]
  },
  {
   "cell_type": "code",
   "execution_count": 52,
   "id": "683ae88d",
   "metadata": {},
   "outputs": [
    {
     "name": "stdout",
     "output_type": "stream",
     "text": [
      "F1 per fold: [0.92009738 0.87090048 0.93569731 0.89814613 0.90278686]\n",
      "F1 Mean: 0.9055256308627527\n"
     ]
    }
   ],
   "source": [
    "print(\"F1 per fold:\", results_scores['test_f1'])\n",
    "print(\"F1 Mean:\", results_scores['test_f1'].mean())"
   ]
  },
  {
   "cell_type": "markdown",
   "id": "2b0eca67",
   "metadata": {},
   "source": [
    "Given the fact that the mean F1 score over the folds is above 0.9, the model performance is quite good."
   ]
  },
  {
   "cell_type": "markdown",
   "id": "01088ddb",
   "metadata": {},
   "source": [
    "We can also calculate another score, the ROC-AUC score (Receiver Operating Characteristic Area Under the Curve). This metric plots the True Positive rate (TPR) against the False Positive rate (FPR) and measures the area under the resulting curve, getting a single number that summarizes the classifier's performance across all possible classification thresholds."
   ]
  },
  {
   "cell_type": "markdown",
   "id": "2a05dcf9",
   "metadata": {},
   "source": [
    "The ROC-AUC score is used in binary classification. Given the fact that we are analyzing three classes, we can use the One vs Rest method, which compares every class to all the others."
   ]
  },
  {
   "cell_type": "code",
   "execution_count": 53,
   "id": "6476386c",
   "metadata": {},
   "outputs": [
    {
     "name": "stdout",
     "output_type": "stream",
     "text": [
      "ROC-AUC (One vs Rest) per fold: [0.98356455 0.94194185 0.97494265 0.9518686  0.95783405]\n",
      "ROC-AUC (One vs Rest) Mean: 0.9620303362719458\n"
     ]
    }
   ],
   "source": [
    "print(\"ROC-AUC (One vs Rest) per fold:\", results_scores['test_roc_auc'])\n",
    "print(\"ROC-AUC (One vs Rest) Mean:\", results_scores['test_roc_auc'].mean())"
   ]
  },
  {
   "cell_type": "markdown",
   "id": "30108d8e",
   "metadata": {},
   "source": [
    "The mean ROC-AUC score over the folds is also above 0.9."
   ]
  },
  {
   "cell_type": "markdown",
   "id": "e1bc0a7a",
   "metadata": {},
   "source": [
    "### Testing the features\n",
    "\n",
    "Now we can try testing this model on different sets of features. We will use permutation importance, a method that randomly shuffles a single column of the validation data, leaving the target and all other columns in place. The predictions that vary a lot are the most influential with the model being examined."
   ]
  },
  {
   "cell_type": "code",
   "execution_count": null,
   "id": "aec09ddf",
   "metadata": {},
   "outputs": [
    {
     "data": {
      "text/html": [
       "\n",
       "    <style>\n",
       "    table.eli5-weights tr:hover {\n",
       "        filter: brightness(85%);\n",
       "    }\n",
       "</style>\n",
       "\n",
       "\n",
       "\n",
       "    \n",
       "\n",
       "    \n",
       "\n",
       "    \n",
       "\n",
       "    \n",
       "\n",
       "    \n",
       "\n",
       "    \n",
       "\n",
       "\n",
       "    \n",
       "\n",
       "    \n",
       "\n",
       "    \n",
       "\n",
       "    \n",
       "\n",
       "    \n",
       "\n",
       "    \n",
       "\n",
       "\n",
       "    \n",
       "\n",
       "    \n",
       "\n",
       "    \n",
       "\n",
       "    \n",
       "\n",
       "    \n",
       "        <table class=\"eli5-weights eli5-feature-importances\" style=\"border-collapse: collapse; border: none; margin-top: 0em; table-layout: auto;\">\n",
       "    <thead>\n",
       "    <tr style=\"border: none;\">\n",
       "        <th style=\"padding: 0 1em 0 0.5em; text-align: right; border: none;\">Weight</th>\n",
       "        <th style=\"padding: 0 0.5em 0 0.5em; text-align: left; border: none;\">Feature</th>\n",
       "    </tr>\n",
       "    </thead>\n",
       "    <tbody>\n",
       "    \n",
       "        <tr style=\"background-color: hsl(120, 100.00%, 80.00%); border: none;\">\n",
       "            <td style=\"padding: 0 1em 0 0.5em; text-align: right; border: none;\">\n",
       "                0.1401\n",
       "                \n",
       "                    &plusmn; 0.0061\n",
       "                \n",
       "            </td>\n",
       "            <td style=\"padding: 0 0.5em 0 0.5em; text-align: left; border: none;\">\n",
       "                HbA1c\n",
       "            </td>\n",
       "        </tr>\n",
       "    \n",
       "        <tr style=\"background-color: hsl(120, 100.00%, 87.75%); border: none;\">\n",
       "            <td style=\"padding: 0 1em 0 0.5em; text-align: right; border: none;\">\n",
       "                0.0696\n",
       "                \n",
       "                    &plusmn; 0.0297\n",
       "                \n",
       "            </td>\n",
       "            <td style=\"padding: 0 0.5em 0 0.5em; text-align: left; border: none;\">\n",
       "                BMI\n",
       "            </td>\n",
       "        </tr>\n",
       "    \n",
       "        <tr style=\"background-color: hsl(120, 100.00%, 97.60%); border: none;\">\n",
       "            <td style=\"padding: 0 1em 0 0.5em; text-align: right; border: none;\">\n",
       "                0.0068\n",
       "                \n",
       "                    &plusmn; 0.0077\n",
       "                \n",
       "            </td>\n",
       "            <td style=\"padding: 0 0.5em 0 0.5em; text-align: left; border: none;\">\n",
       "                AGE\n",
       "            </td>\n",
       "        </tr>\n",
       "    \n",
       "        <tr style=\"background-color: hsl(120, 100.00%, 98.11%); border: none;\">\n",
       "            <td style=\"padding: 0 1em 0 0.5em; text-align: right; border: none;\">\n",
       "                0.0048\n",
       "                \n",
       "                    &plusmn; 0.0106\n",
       "                \n",
       "            </td>\n",
       "            <td style=\"padding: 0 0.5em 0 0.5em; text-align: left; border: none;\">\n",
       "                Chol\n",
       "            </td>\n",
       "        </tr>\n",
       "    \n",
       "        <tr style=\"background-color: hsl(120, 100.00%, 98.38%); border: none;\">\n",
       "            <td style=\"padding: 0 1em 0 0.5em; text-align: right; border: none;\">\n",
       "                0.0039\n",
       "                \n",
       "                    &plusmn; 0.0039\n",
       "                \n",
       "            </td>\n",
       "            <td style=\"padding: 0 0.5em 0 0.5em; text-align: left; border: none;\">\n",
       "                TG\n",
       "            </td>\n",
       "        </tr>\n",
       "    \n",
       "        <tr style=\"background-color: hsl(120, 100.00%, 99.39%); border: none;\">\n",
       "            <td style=\"padding: 0 1em 0 0.5em; text-align: right; border: none;\">\n",
       "                0.0010\n",
       "                \n",
       "                    &plusmn; 0.0197\n",
       "                \n",
       "            </td>\n",
       "            <td style=\"padding: 0 0.5em 0 0.5em; text-align: left; border: none;\">\n",
       "                Urea\n",
       "            </td>\n",
       "        </tr>\n",
       "    \n",
       "        <tr style=\"background-color: hsl(120, 100.00%, 99.39%); border: none;\">\n",
       "            <td style=\"padding: 0 1em 0 0.5em; text-align: right; border: none;\">\n",
       "                0.0010\n",
       "                \n",
       "                    &plusmn; 0.0072\n",
       "                \n",
       "            </td>\n",
       "            <td style=\"padding: 0 0.5em 0 0.5em; text-align: left; border: none;\">\n",
       "                HDL\n",
       "            </td>\n",
       "        </tr>\n",
       "    \n",
       "        <tr style=\"background-color: hsl(120, 100.00%, 99.39%); border: none;\">\n",
       "            <td style=\"padding: 0 1em 0 0.5em; text-align: right; border: none;\">\n",
       "                0.0010\n",
       "                \n",
       "                    &plusmn; 0.0039\n",
       "                \n",
       "            </td>\n",
       "            <td style=\"padding: 0 0.5em 0 0.5em; text-align: left; border: none;\">\n",
       "                Cr\n",
       "            </td>\n",
       "        </tr>\n",
       "    \n",
       "        <tr style=\"background-color: hsl(120, 100.00%, 100.00%); border: none;\">\n",
       "            <td style=\"padding: 0 1em 0 0.5em; text-align: right; border: none;\">\n",
       "                0.0000\n",
       "                \n",
       "                    &plusmn; 0.0137\n",
       "                \n",
       "            </td>\n",
       "            <td style=\"padding: 0 0.5em 0 0.5em; text-align: left; border: none;\">\n",
       "                ID\n",
       "            </td>\n",
       "        </tr>\n",
       "    \n",
       "        <tr style=\"background-color: hsl(120, 100.00%, 100.00%); border: none;\">\n",
       "            <td style=\"padding: 0 1em 0 0.5em; text-align: right; border: none;\">\n",
       "                0.0000\n",
       "                \n",
       "                    &plusmn; 0.0086\n",
       "                \n",
       "            </td>\n",
       "            <td style=\"padding: 0 0.5em 0 0.5em; text-align: left; border: none;\">\n",
       "                VLDL\n",
       "            </td>\n",
       "        </tr>\n",
       "    \n",
       "        <tr style=\"background-color: hsl(120, 100.00%, 100.00%); border: none;\">\n",
       "            <td style=\"padding: 0 1em 0 0.5em; text-align: right; border: none;\">\n",
       "                0.0000\n",
       "                \n",
       "                    &plusmn; 0.0106\n",
       "                \n",
       "            </td>\n",
       "            <td style=\"padding: 0 0.5em 0 0.5em; text-align: left; border: none;\">\n",
       "                LDL\n",
       "            </td>\n",
       "        </tr>\n",
       "    \n",
       "        <tr style=\"background-color: hsl(0, 100.00%, 98.68%); border: none;\">\n",
       "            <td style=\"padding: 0 1em 0 0.5em; text-align: right; border: none;\">\n",
       "                -0.0029\n",
       "                \n",
       "                    &plusmn; 0.0047\n",
       "                \n",
       "            </td>\n",
       "            <td style=\"padding: 0 0.5em 0 0.5em; text-align: left; border: none;\">\n",
       "                Gender\n",
       "            </td>\n",
       "        </tr>\n",
       "    \n",
       "    \n",
       "    </tbody>\n",
       "</table>\n",
       "    \n",
       "\n",
       "    \n",
       "\n",
       "\n",
       "    \n",
       "\n",
       "    \n",
       "\n",
       "    \n",
       "\n",
       "    \n",
       "\n",
       "    \n",
       "\n",
       "    \n",
       "\n",
       "\n",
       "\n"
      ],
      "text/plain": [
       "<IPython.core.display.HTML object>"
      ]
     },
     "execution_count": 54,
     "metadata": {},
     "output_type": "execute_result"
    }
   ],
   "source": [
    "import eli5\n",
    "from eli5.sklearn import PermutationImportance\n",
    "\n",
    "log_reg.fit(X_train, y_train)\n",
    "\n",
    "perm = PermutationImportance(log_reg, random_state=1).fit(X_valid, y_valid)\n",
    "eli5.show_weights(perm, feature_names = X_valid.columns.tolist())"
   ]
  },
  {
   "cell_type": "markdown",
   "id": "446d754d",
   "metadata": {},
   "source": [
    "We can see that the data that improves predictions the most is the blood glucose level, followed by the patient's BMI. The triglycerides level is the only other slighlty relevant data, but the rest of data do not improve the model predictive power.\n",
    "\n",
    "With hypotesis testing we saw that age, gender and cholesterol also are correlated to a diabetes diagnosis. This discrepancy can be due to the fact that they effectively influence the risk of developing diabetes, but they are not used by the model because the diabetes diagnosis is better explained by blood glucose level and the patient's BMI."
   ]
  },
  {
   "cell_type": "markdown",
   "id": "f785c03e",
   "metadata": {},
   "source": [
    "# Observations\n",
    "\n",
    "The final results are really good. In the Hypotesis Testing section, we obtain very low p-values, the highest being 3.347016e-10 for the impact of cholesterol level on diabetes diagnosis. In the Predictive Analytics section we similarly get very high metric values, both above 0.9. \n",
    "\n",
    "This seems too good to be true, and it is possibly due to the dataset, which could contain too polished data."
   ]
  }
 ],
 "metadata": {
  "kernelspec": {
   "display_name": "Python 3",
   "language": "python",
   "name": "python3"
  },
  "language_info": {
   "codemirror_mode": {
    "name": "ipython",
    "version": 3
   },
   "file_extension": ".py",
   "mimetype": "text/x-python",
   "name": "python",
   "nbconvert_exporter": "python",
   "pygments_lexer": "ipython3",
   "version": "3.13.1"
  }
 },
 "nbformat": 4,
 "nbformat_minor": 5
}
